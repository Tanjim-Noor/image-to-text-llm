{
 "cells": [
  {
   "cell_type": "code",
   "execution_count": 1,
   "id": "3cda0472",
   "metadata": {},
   "outputs": [
    {
     "name": "stdout",
     "output_type": "stream",
     "text": [
      "Requirement already satisfied: pytesseract in c:\\users\\noort\\appdata\\local\\programs\\python\\python313\\lib\\site-packages (0.3.13)\n",
      "Requirement already satisfied: pdf2image in c:\\users\\noort\\appdata\\local\\programs\\python\\python313\\lib\\site-packages (1.17.0)\n",
      "Requirement already satisfied: Pillow in c:\\users\\noort\\appdata\\local\\programs\\python\\python313\\lib\\site-packages (11.2.1)\n",
      "Requirement already satisfied: packaging>=21.3 in c:\\users\\noort\\appdata\\roaming\\python\\python313\\site-packages (from pytesseract) (24.2)\n",
      "Note: you may need to restart the kernel to use updated packages.\n"
     ]
    },
    {
     "name": "stderr",
     "output_type": "stream",
     "text": [
      "\n",
      "[notice] A new release of pip is available: 24.3.1 -> 25.0.1\n",
      "[notice] To update, run: python.exe -m pip install --upgrade pip\n"
     ]
    }
   ],
   "source": [
    "%pip install pytesseract pdf2image Pillow"
   ]
  },
  {
   "cell_type": "code",
   "execution_count": null,
   "id": "46456fdb",
   "metadata": {},
   "outputs": [
    {
     "name": "stderr",
     "output_type": "stream",
     "text": [
      "c:\\Users\\noort\\AppData\\Local\\Programs\\Python\\Python313\\Lib\\site-packages\\PIL\\Image.py:3442: DecompressionBombWarning: Image size (89506809 pixels) exceeds limit of 89478485 pixels, could be decompression bomb DOS attack.\n",
      "  warnings.warn(\n"
     ]
    },
    {
     "name": "stdout",
     "output_type": "stream",
     "text": [
      "Text extraction complete!\n"
     ]
    }
   ],
   "source": [
    "from pdf2image import convert_from_path\n",
    "import pytesseract\n",
    "\n",
    "# Path to your PDF file\n",
    "pdf_path = 'CourseBook_Semester1_AlAqeedah.pdf'\n",
    "\n",
    "# Convert PDF to images\n",
    "images = convert_from_path(pdf_path, dpi = 1000, first_page=8, last_page=20, thread_count = 1)\n",
    "\n",
    "# Initialize a list to hold the extracted text\n",
    "extracted_text = []\n",
    "\n",
    "# Loop through each image and perform OCR\n",
    "for i, image in enumerate(images):\n",
    "    # Use Tesseract to do OCR on the image\n",
    "    text = pytesseract.image_to_string(image)\n",
    "    extracted_text.append(text)\n",
    " \n",
    "# Optionally, save the extracted text to a file or process it further\n",
    "with open('extracted_text.txt', 'w') as f:\n",
    "    for page_text in extracted_text:\n",
    "        f.write(page_text + \"\\n\\n\")  # Separate pages with new lines\n",
    "\n",
    "print(\"Text extraction complete!\")"
   ]
  }
 ],
 "metadata": {
  "kernelspec": {
   "display_name": "Python 3",
   "language": "python",
   "name": "python3"
  },
  "language_info": {
   "codemirror_mode": {
    "name": "ipython",
    "version": 3
   },
   "file_extension": ".py",
   "mimetype": "text/x-python",
   "name": "python",
   "nbconvert_exporter": "python",
   "pygments_lexer": "ipython3",
   "version": "3.13.2"
  }
 },
 "nbformat": 4,
 "nbformat_minor": 5
}
